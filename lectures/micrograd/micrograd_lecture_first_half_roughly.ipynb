{
 "cells": [
  {
   "cell_type": "code",
   "execution_count": 2,
   "metadata": {},
   "outputs": [],
   "source": [
    "import math\n",
    "import numpy as np\n",
    "import matplotlib.pyplot as plt\n",
    "%matplotlib inline"
   ]
  },
  {
   "cell_type": "code",
   "execution_count": 3,
   "metadata": {},
   "outputs": [],
   "source": [
    "def f(x):\n",
    "  return 3*x**2 - 4*x + 5"
   ]
  },
  {
   "cell_type": "code",
   "execution_count": 4,
   "metadata": {},
   "outputs": [
    {
     "data": {
      "text/plain": [
       "20.0"
      ]
     },
     "execution_count": 4,
     "metadata": {},
     "output_type": "execute_result"
    }
   ],
   "source": [
    "f(3.0)"
   ]
  },
  {
   "cell_type": "code",
   "execution_count": 5,
   "metadata": {},
   "outputs": [
    {
     "data": {
      "text/plain": [
       "[<matplotlib.lines.Line2D at 0x106ce9d00>]"
      ]
     },
     "execution_count": 5,
     "metadata": {},
     "output_type": "execute_result"
    },
    {
     "data": {
      "image/png": "[encoded data removed]",
      "text/plain": [
       "<Figure size 640x480 with 1 Axes>"
      ]
     },
     "metadata": {},
     "output_type": "display_data"
    }
   ],
   "source": [
    "xs = np.arange(-5, 5, 0.25)\n",
    "ys = f(xs)\n",
    "plt.plot(xs, ys)"
   ]
  },
  {
   "cell_type": "code",
   "execution_count": null,
   "metadata": {},
   "outputs": [
    {
     "data": {
      "text/plain": [
       "2.999378523327323e-06"
      ]
     },
     "execution_count": 6,
     "metadata": {},
     "output_type": "execute_result"
    }
   ],
   "source": [
    "h = 0.000001\n",
    "x = 2/3\n",
    "(f(x + h) - f(x))/h # derivative at x = 0"
   ]
  },
  {
   "cell_type": "code",
   "execution_count": 7,
   "metadata": {},
   "outputs": [
    {
     "name": "stdout",
     "output_type": "stream",
     "text": [
      "4.0\n"
     ]
    }
   ],
   "source": [
    "# les get more complex\n",
    "a = 2.0\n",
    "b = -3.0\n",
    "c = 10.0\n",
    "d = a*b + c\n",
    "print(d)"
   ]
  },
  {
   "cell_type": "code",
   "execution_count": 8,
   "metadata": {},
   "outputs": [
    {
     "name": "stdout",
     "output_type": "stream",
     "text": [
      "d1 4.0\n",
      "d2 4.0001\n",
      "slope 0.9999999999976694\n"
     ]
    }
   ],
   "source": [
    "h = 0.0001\n",
    "\n",
    "# inputs\n",
    "a = 2.0\n",
    "b = -3.0\n",
    "c = 10.0\n",
    "\n",
    "d1 = a*b + c\n",
    "c += h # can replace c with a or b\n",
    "d2 = a*b + c\n",
    "\n",
    "print('d1', d1)\n",
    "print('d2', d2)\n",
    "print('slope', (d2 - d1)/h)\n"
   ]
  },
  {
   "cell_type": "code",
   "execution_count": null,
   "metadata": {},
   "outputs": [
    {
     "data": {
      "text/plain": [
       "Value(data=-8.0)"
      ]
     },
     "execution_count": 9,
     "metadata": {},
     "output_type": "execute_result"
    }
   ],
   "source": [
    "class Value:\n",
    "  \n",
    "  def __init__(self, data, _children=(), _op='', label=''):\n",
    "    self.data = data\n",
    "    self.grad = 0.0 # gradient, how this Value changes the final output\n",
    "    self._backward = lambda: None # nothing to do for leaf nodes\n",
    "    self._prev = set(_children)\n",
    "    self._op = _op\n",
    "    self.label = label\n",
    "\n",
    "  def __repr__(self):\n",
    "    return f\"Value(data={self.data})\"\n",
    "  \n",
    "  def __add__(self, other):\n",
    "    out = Value(self.data + other.data, (self, other), '+') # feed in children and operation\n",
    "    \n",
    "    def _backward(): # copy out.grad to self.grad and other.grad\n",
    "      self.grad += 1.0 * out.grad\n",
    "      other.grad += 1.0 * out.grad\n",
    "    out._backward = _backward\n",
    "    \n",
    "    return out\n",
    "\n",
    "  def __mul__(self, other):\n",
    "    out = Value(self.data * other.data, (self, other), '*')\n",
    "    \n",
    "    def _backward():\n",
    "      self.grad += other.data * out.grad\n",
    "      other.grad += self.data * out.grad\n",
    "    out._backward = _backward\n",
    "      \n",
    "    return out\n",
    "  \n",
    "  def tanh(self):\n",
    "    x = self.data\n",
    "    t = (math.exp(2*x) - 1)/(math.exp(2*x) + 1)\n",
    "    out = Value(t, (self, ), 'tanh')\n",
    "    \n",
    "    def _backward():\n",
    "      self.grad += (1 - t**2) * out.grad\n",
    "    out._backward = _backward\n",
    "    \n",
    "    return out\n",
    "  \n",
    "  def backward(self):\n",
    "    \n",
    "    topo = []\n",
    "    visited = set()\n",
    "    def build_topo(v):\n",
    "      if v not in visited:\n",
    "        visited.add(v)\n",
    "        for child in v._prev:\n",
    "          build_topo(child)\n",
    "        topo.append(v)\n",
    "    build_topo(self)\n",
    "    \n",
    "    self.grad = 1.0\n",
    "    for node in reversed(topo):\n",
    "      node._backward()\n",
    "\n",
    "\n",
    "a = Value(2.0, label='a')\n",
    "b = Value(-3.0, label='b')\n",
    "c = Value(10.0, label='c')\n",
    "e = a*b; e.label = 'e'\n",
    "d = e + c; d.label = 'd'\n",
    "f = Value(-2.0, label='f')\n",
    "L = d * f; L.label = 'L'\n",
    "L"
   ]
  },
  {
   "cell_type": "code",
   "execution_count": 15,
   "metadata": {},
   "outputs": [],
   "source": [
    "from graphviz import Digraph\n",
    "\n",
    "def trace(root):\n",
    "  # builds a set of all nodes and edges in a graph\n",
    "  nodes, edges = set(), set()\n",
    "  def build(v):\n",
    "    if v not in nodes:\n",
    "      nodes.add(v)\n",
    "      for child in v._prev:\n",
    "        edges.add((child, v))\n",
    "        build(child)\n",
    "  build(root)\n",
    "  return nodes, edges\n",
    "\n",
    "def draw_dot(root):\n",
    "  dot = Digraph(format='svg', graph_attr={'rankdir': 'LR'}) # LR = left to right\n",
    "  \n",
    "  nodes, edges = trace(root)\n",
    "  for n in nodes:\n",
    "    uid = str(id(n))\n",
    "    # for any value in the graph, create a rectangular ('record') node for it\n",
    "    dot.node(name = uid, label = \"{ %s | data %.4f | grad %.4f }\" % (n.label, n.data, n.grad), shape='record')\n",
    "    if n._op:\n",
    "      # if this value is a result of some operation, create an op node for it\n",
    "      dot.node(name = uid + n._op, label = n._op)\n",
    "      # and connect this node to it\n",
    "      dot.edge(uid + n._op, uid)\n",
    "\n",
    "  for n1, n2 in edges:\n",
    "    # connect n1 to the op node of n2\n",
    "    dot.edge(str(id(n1)), str(id(n2)) + n2._op)\n",
    "\n",
    "  return dot\n"
   ]
  },
  {
   "cell_type": "code",
   "execution_count": 16,
   "metadata": {},
   "outputs": [
    {
     "data": {
      "image/svg+xml": [
       "<?xml version=\"1.0\" encoding=\"UTF-8\" standalone=\"no\"?>\n",
       "<!DOCTYPE svg PUBLIC \"-//W3C//DTD SVG 1.1//EN\"\n",
       " \"http://www.w3.org/Graphics/SVG/1.1/DTD/svg11.dtd\">\n",
       "<!-- Generated by graphviz version 12.2.1 (0)\n",
       " -->\n",
       "<!-- Pages: 1 -->\n",
       "<svg width=\"1140pt\" height=\"156pt\"\n",
       " viewBox=\"0.00 0.00 1139.75 156.00\" xmlns=\"http://www.w3.org/2000/svg\" xmlns:xlink=\"http://www.w3.org/1999/xlink\">\n",
       "<g id=\"graph0\" class=\"graph\" transform=\"scale(1 1) rotate(0) translate(4 152)\">\n",
       "<polygon fill=\"white\" stroke=\"none\" points=\"-4,4 -4,-152 1135.75,-152 1135.75,4 -4,4\"/>\n",
       "<!-- 4409819744 -->\n",
       "<g id=\"node1\" class=\"node\">\n",
       "<title>4409819744</title>\n",
       "<polygon fill=\"none\" stroke=\"black\" points=\"0,-111.5 0,-147.5 188.25,-147.5 188.25,-111.5 0,-111.5\"/>\n",
       "<text text-anchor=\"middle\" x=\"11.38\" y=\"-124.7\" font-family=\"Times,serif\" font-size=\"14.00\">b</text>\n",
       "<polyline fill=\"none\" stroke=\"black\" points=\"22.75,-112 22.75,-147.5\"/>\n",
       "<text text-anchor=\"middle\" x=\"64.88\" y=\"-124.7\" font-family=\"Times,serif\" font-size=\"14.00\">data &#45;3.0000</text>\n",
       "<polyline fill=\"none\" stroke=\"black\" points=\"107,-112 107,-147.5\"/>\n",
       "<text text-anchor=\"middle\" x=\"147.62\" y=\"-124.7\" font-family=\"Times,serif\" font-size=\"14.00\">grad 0.0000</text>\n",
       "</g>\n",
       "<!-- 4409824736* -->\n",
       "<g id=\"node10\" class=\"node\">\n",
       "<title>4409824736*</title>\n",
       "<ellipse fill=\"none\" stroke=\"black\" cx=\"251.25\" cy=\"-101.5\" rx=\"27\" ry=\"18\"/>\n",
       "<text text-anchor=\"middle\" x=\"251.25\" y=\"-96.45\" font-family=\"Times,serif\" font-size=\"14.00\">*</text>\n",
       "</g>\n",
       "<!-- 4409819744&#45;&gt;4409824736* -->\n",
       "<g id=\"edge5\" class=\"edge\">\n",
       "<title>4409819744&#45;&gt;4409824736*</title>\n",
       "<path fill=\"none\" stroke=\"black\" d=\"M188.49,-112.65C197.36,-111.05 205.93,-109.5 213.73,-108.09\"/>\n",
       "<polygon fill=\"black\" stroke=\"black\" points=\"214.2,-111.56 223.42,-106.34 212.95,-104.68 214.2,-111.56\"/>\n",
       "</g>\n",
       "<!-- 4356834464 -->\n",
       "<g id=\"node2\" class=\"node\">\n",
       "<title>4356834464</title>\n",
       "<polygon fill=\"none\" stroke=\"black\" points=\"2.62,-56.5 2.62,-92.5 185.62,-92.5 185.62,-56.5 2.62,-56.5\"/>\n",
       "<text text-anchor=\"middle\" x=\"13.62\" y=\"-69.7\" font-family=\"Times,serif\" font-size=\"14.00\">a</text>\n",
       "<polyline fill=\"none\" stroke=\"black\" points=\"24.62,-57 24.62,-92.5\"/>\n",
       "<text text-anchor=\"middle\" x=\"64.5\" y=\"-69.7\" font-family=\"Times,serif\" font-size=\"14.00\">data 2.0000</text>\n",
       "<polyline fill=\"none\" stroke=\"black\" points=\"104.38,-57 104.38,-92.5\"/>\n",
       "<text text-anchor=\"middle\" x=\"145\" y=\"-69.7\" font-family=\"Times,serif\" font-size=\"14.00\">grad 0.0000</text>\n",
       "</g>\n",
       "<!-- 4356834464&#45;&gt;4409824736* -->\n",
       "<g id=\"edge7\" class=\"edge\">\n",
       "<title>4356834464&#45;&gt;4409824736*</title>\n",
       "<path fill=\"none\" stroke=\"black\" d=\"M185.81,-90.28C195.45,-91.96 204.82,-93.59 213.29,-95.07\"/>\n",
       "<polygon fill=\"black\" stroke=\"black\" points=\"212.65,-98.51 223.1,-96.77 213.85,-91.61 212.65,-98.51\"/>\n",
       "</g>\n",
       "<!-- 4409819888 -->\n",
       "<g id=\"node3\" class=\"node\">\n",
       "<title>4409819888</title>\n",
       "<polygon fill=\"none\" stroke=\"black\" points=\"630,-0.5 630,-36.5 816,-36.5 816,-0.5 630,-0.5\"/>\n",
       "<text text-anchor=\"middle\" x=\"640.25\" y=\"-13.7\" font-family=\"Times,serif\" font-size=\"14.00\">f</text>\n",
       "<polyline fill=\"none\" stroke=\"black\" points=\"650.5,-1 650.5,-36.5\"/>\n",
       "<text text-anchor=\"middle\" x=\"692.62\" y=\"-13.7\" font-family=\"Times,serif\" font-size=\"14.00\">data &#45;2.0000</text>\n",
       "<polyline fill=\"none\" stroke=\"black\" points=\"734.75,-1 734.75,-36.5\"/>\n",
       "<text text-anchor=\"middle\" x=\"775.38\" y=\"-13.7\" font-family=\"Times,serif\" font-size=\"14.00\">grad 0.0000</text>\n",
       "</g>\n",
       "<!-- 4375472048* -->\n",
       "<g id=\"node8\" class=\"node\">\n",
       "<title>4375472048*</title>\n",
       "<ellipse fill=\"none\" stroke=\"black\" cx=\"879\" cy=\"-45.5\" rx=\"27\" ry=\"18\"/>\n",
       "<text text-anchor=\"middle\" x=\"879\" y=\"-40.45\" font-family=\"Times,serif\" font-size=\"14.00\">*</text>\n",
       "</g>\n",
       "<!-- 4409819888&#45;&gt;4375472048* -->\n",
       "<g id=\"edge4\" class=\"edge\">\n",
       "<title>4409819888&#45;&gt;4375472048*</title>\n",
       "<path fill=\"none\" stroke=\"black\" d=\"M816.25,-34.67C825.01,-36.21 833.5,-37.7 841.24,-39.05\"/>\n",
       "<polygon fill=\"black\" stroke=\"black\" points=\"840.39,-42.46 850.84,-40.74 841.6,-35.56 840.39,-42.46\"/>\n",
       "</g>\n",
       "<!-- 4409823008 -->\n",
       "<g id=\"node4\" class=\"node\">\n",
       "<title>4409823008</title>\n",
       "<polygon fill=\"none\" stroke=\"black\" points=\"314.25,-28.5 314.25,-64.5 504,-64.5 504,-28.5 314.25,-28.5\"/>\n",
       "<text text-anchor=\"middle\" x=\"325.25\" y=\"-41.7\" font-family=\"Times,serif\" font-size=\"14.00\">c</text>\n",
       "<polyline fill=\"none\" stroke=\"black\" points=\"336.25,-29 336.25,-64.5\"/>\n",
       "<text text-anchor=\"middle\" x=\"379.5\" y=\"-41.7\" font-family=\"Times,serif\" font-size=\"14.00\">data 10.0000</text>\n",
       "<polyline fill=\"none\" stroke=\"black\" points=\"422.75,-29 422.75,-64.5\"/>\n",
       "<text text-anchor=\"middle\" x=\"463.38\" y=\"-41.7\" font-family=\"Times,serif\" font-size=\"14.00\">grad 0.0000</text>\n",
       "</g>\n",
       "<!-- 4409827712+ -->\n",
       "<g id=\"node6\" class=\"node\">\n",
       "<title>4409827712+</title>\n",
       "<ellipse fill=\"none\" stroke=\"black\" cx=\"567\" cy=\"-73.5\" rx=\"27\" ry=\"18\"/>\n",
       "<text text-anchor=\"middle\" x=\"567\" y=\"-68.45\" font-family=\"Times,serif\" font-size=\"14.00\">+</text>\n",
       "</g>\n",
       "<!-- 4409823008&#45;&gt;4409827712+ -->\n",
       "<g id=\"edge9\" class=\"edge\">\n",
       "<title>4409823008&#45;&gt;4409827712+</title>\n",
       "<path fill=\"none\" stroke=\"black\" d=\"M504.39,-62.83C513.16,-64.35 521.65,-65.82 529.37,-67.15\"/>\n",
       "<polygon fill=\"black\" stroke=\"black\" points=\"528.5,-70.56 538.95,-68.81 529.69,-63.66 528.5,-70.56\"/>\n",
       "</g>\n",
       "<!-- 4409827712 -->\n",
       "<g id=\"node5\" class=\"node\">\n",
       "<title>4409827712</title>\n",
       "<polygon fill=\"none\" stroke=\"black\" points=\"631.12,-55.5 631.12,-91.5 814.88,-91.5 814.88,-55.5 631.12,-55.5\"/>\n",
       "<text text-anchor=\"middle\" x=\"642.5\" y=\"-68.7\" font-family=\"Times,serif\" font-size=\"14.00\">d</text>\n",
       "<polyline fill=\"none\" stroke=\"black\" points=\"653.88,-56 653.88,-91.5\"/>\n",
       "<text text-anchor=\"middle\" x=\"693.75\" y=\"-68.7\" font-family=\"Times,serif\" font-size=\"14.00\">data 4.0000</text>\n",
       "<polyline fill=\"none\" stroke=\"black\" points=\"733.62,-56 733.62,-91.5\"/>\n",
       "<text text-anchor=\"middle\" x=\"774.25\" y=\"-68.7\" font-family=\"Times,serif\" font-size=\"14.00\">grad 0.0000</text>\n",
       "</g>\n",
       "<!-- 4409827712&#45;&gt;4375472048* -->\n",
       "<g id=\"edge6\" class=\"edge\">\n",
       "<title>4409827712&#45;&gt;4375472048*</title>\n",
       "<path fill=\"none\" stroke=\"black\" d=\"M815.36,-56.89C824.5,-55.23 833.36,-53.62 841.4,-52.15\"/>\n",
       "<polygon fill=\"black\" stroke=\"black\" points=\"841.83,-55.63 851.04,-50.4 840.57,-48.75 841.83,-55.63\"/>\n",
       "</g>\n",
       "<!-- 4409827712+&#45;&gt;4409827712 -->\n",
       "<g id=\"edge1\" class=\"edge\">\n",
       "<title>4409827712+&#45;&gt;4409827712</title>\n",
       "<path fill=\"none\" stroke=\"black\" d=\"M594.47,-73.5C601.87,-73.5 610.38,-73.5 619.43,-73.5\"/>\n",
       "<polygon fill=\"black\" stroke=\"black\" points=\"619.17,-77 629.17,-73.5 619.17,-70 619.17,-77\"/>\n",
       "</g>\n",
       "<!-- 4375472048 -->\n",
       "<g id=\"node7\" class=\"node\">\n",
       "<title>4375472048</title>\n",
       "<polygon fill=\"none\" stroke=\"black\" points=\"942,-27.5 942,-63.5 1131.75,-63.5 1131.75,-27.5 942,-27.5\"/>\n",
       "<text text-anchor=\"middle\" x=\"954.12\" y=\"-40.7\" font-family=\"Times,serif\" font-size=\"14.00\">L</text>\n",
       "<polyline fill=\"none\" stroke=\"black\" points=\"966.25,-28 966.25,-63.5\"/>\n",
       "<text text-anchor=\"middle\" x=\"1008.38\" y=\"-40.7\" font-family=\"Times,serif\" font-size=\"14.00\">data &#45;8.0000</text>\n",
       "<polyline fill=\"none\" stroke=\"black\" points=\"1050.5,-28 1050.5,-63.5\"/>\n",
       "<text text-anchor=\"middle\" x=\"1091.12\" y=\"-40.7\" font-family=\"Times,serif\" font-size=\"14.00\">grad 0.0000</text>\n",
       "</g>\n",
       "<!-- 4375472048*&#45;&gt;4375472048 -->\n",
       "<g id=\"edge2\" class=\"edge\">\n",
       "<title>4375472048*&#45;&gt;4375472048</title>\n",
       "<path fill=\"none\" stroke=\"black\" d=\"M906.44,-45.5C913.59,-45.5 921.78,-45.5 930.49,-45.5\"/>\n",
       "<polygon fill=\"black\" stroke=\"black\" points=\"930.26,-49 940.26,-45.5 930.26,-42 930.26,-49\"/>\n",
       "</g>\n",
       "<!-- 4409824736 -->\n",
       "<g id=\"node9\" class=\"node\">\n",
       "<title>4409824736</title>\n",
       "<polygon fill=\"none\" stroke=\"black\" points=\"315.38,-83.5 315.38,-119.5 502.88,-119.5 502.88,-83.5 315.38,-83.5\"/>\n",
       "<text text-anchor=\"middle\" x=\"326.38\" y=\"-96.7\" font-family=\"Times,serif\" font-size=\"14.00\">e</text>\n",
       "<polyline fill=\"none\" stroke=\"black\" points=\"337.38,-84 337.38,-119.5\"/>\n",
       "<text text-anchor=\"middle\" x=\"379.5\" y=\"-96.7\" font-family=\"Times,serif\" font-size=\"14.00\">data &#45;6.0000</text>\n",
       "<polyline fill=\"none\" stroke=\"black\" points=\"421.62,-84 421.62,-119.5\"/>\n",
       "<text text-anchor=\"middle\" x=\"462.25\" y=\"-96.7\" font-family=\"Times,serif\" font-size=\"14.00\">grad 0.0000</text>\n",
       "</g>\n",
       "<!-- 4409824736&#45;&gt;4409827712+ -->\n",
       "<g id=\"edge8\" class=\"edge\">\n",
       "<title>4409824736&#45;&gt;4409827712+</title>\n",
       "<path fill=\"none\" stroke=\"black\" d=\"M503.05,-84.81C512.25,-83.16 521.16,-81.56 529.24,-80.1\"/>\n",
       "<polygon fill=\"black\" stroke=\"black\" points=\"529.71,-83.58 538.93,-78.36 528.47,-76.69 529.71,-83.58\"/>\n",
       "</g>\n",
       "<!-- 4409824736*&#45;&gt;4409824736 -->\n",
       "<g id=\"edge3\" class=\"edge\">\n",
       "<title>4409824736*&#45;&gt;4409824736</title>\n",
       "<path fill=\"none\" stroke=\"black\" d=\"M278.69,-101.5C286.1,-101.5 294.64,-101.5 303.71,-101.5\"/>\n",
       "<polygon fill=\"black\" stroke=\"black\" points=\"303.51,-105 313.51,-101.5 303.51,-98 303.51,-105\"/>\n",
       "</g>\n",
       "</g>\n",
       "</svg>\n"
      ],
      "text/plain": [
       "<graphviz.graphs.Digraph at 0x1072acda0>"
      ]
     },
     "execution_count": 16,
     "metadata": {},
     "output_type": "execute_result"
    }
   ],
   "source": [
    "draw_dot(L)"
   ]
  },
  {
   "cell_type": "code",
   "execution_count": 17,
   "metadata": {},
   "outputs": [
    {
     "name": "stdout",
     "output_type": "stream",
     "text": [
      "-8.0\n"
     ]
    }
   ],
   "source": [
    "a.data += 0.01 * a.grad\n",
    "b.data += 0.01 * b.grad\n",
    "c.data += 0.01 * c.grad\n",
    "f.data += 0.01 * f.grad\n",
    "\n",
    "e = a * b\n",
    "d = e + c\n",
    "L = d * f\n",
    "\n",
    "print(L.data)\n"
   ]
  },
  {
   "cell_type": "code",
   "execution_count": 136,
   "metadata": {},
   "outputs": [
    {
     "name": "stdout",
     "output_type": "stream",
     "text": [
      "-3.9999999999995595\n"
     ]
    }
   ],
   "source": [
    "def lol():\n",
    "  \n",
    "  h = 0.001\n",
    "  \n",
    "  a = Value(2.0, label='a')\n",
    "  b = Value(-3.0, label='b')\n",
    "  c = Value(10.0, label='c')\n",
    "  e = a*b; e.label = 'e'\n",
    "  d = e + c; d.label = 'd'\n",
    "  f = Value(-2.0, label='f')\n",
    "  L = d * f; L.label = 'L'\n",
    "  L1 = L.data\n",
    "  \n",
    "  a = Value(2.0, label='a')\n",
    "  b = Value(-3.0, label='b')\n",
    "  b.data += h\n",
    "  c = Value(10.0, label='c')\n",
    "  e = a*b; e.label = 'e'\n",
    "  d = e + c; d.label = 'd'\n",
    "  f = Value(-2.0, label='f')\n",
    "  L = d * f; L.label = 'L'\n",
    "  L2 = L.data\n",
    "  \n",
    "  print((L2 - L1)/h)\n",
    "  \n",
    "lol()"
   ]
  },
  {
   "cell_type": "code",
   "execution_count": 18,
   "metadata": {},
   "outputs": [
    {
     "data": {
      "image/png": "[encoded data removed]",
      "text/plain": [
       "<Figure size 640x480 with 1 Axes>"
      ]
     },
     "metadata": {},
     "output_type": "display_data"
    }
   ],
   "source": [
    "plt.plot(np.arange(-5,5,0.2), np.tanh(np.arange(-5,5,0.2))); plt.grid();"
   ]
  },
  {
   "cell_type": "code",
   "execution_count": null,
   "metadata": {},
   "outputs": [],
   "source": [
    "# build a neuron\n",
    "# inputs x1,x2\n",
    "x1 = Value(2.0, label='x1')\n",
    "x2 = Value(0.0, label='x2')\n",
    "# weights w1,w2\n",
    "w1 = Value(-3.0, label='w1')\n",
    "w2 = Value(1.0, label='w2')\n",
    "# bias of the neuron\n",
    "b = Value(6.8813735870195432, label='b')\n",
    "# x1*w1 + x2*w2 + b\n",
    "x1w1 = x1*w1; x1w1.label = 'x1*w1'\n",
    "x2w2 = x2*w2; x2w2.label = 'x2*w2'\n",
    "x1w1x2w2 = x1w1 + x2w2; x1w1x2w2.label = 'x1*w1 + x2*w2'\n",
    "n = x1w1x2w2 + b; n.label = 'n'\n",
    "o = n.tanh(); o.label = 'o'"
   ]
  },
  {
   "cell_type": "code",
   "execution_count": 34,
   "metadata": {},
   "outputs": [
    {
     "data": {
      "image/svg+xml": [
       "<?xml version=\"1.0\" encoding=\"UTF-8\" standalone=\"no\"?>\n",
       "<!DOCTYPE svg PUBLIC \"-//W3C//DTD SVG 1.1//EN\"\n",
       " \"http://www.w3.org/Graphics/SVG/1.1/DTD/svg11.dtd\">\n",
       "<!-- Generated by graphviz version 12.2.1 (0)\n",
       " -->\n",
       "<!-- Pages: 1 -->\n",
       "<svg width=\"1573pt\" height=\"210pt\"\n",
       " viewBox=\"0.00 0.00 1573.25 210.00\" xmlns=\"http://www.w3.org/2000/svg\" xmlns:xlink=\"http://www.w3.org/1999/xlink\">\n",
       "<g id=\"graph0\" class=\"graph\" transform=\"scale(1 1) rotate(0) translate(4 206)\">\n",
       "<polygon fill=\"white\" stroke=\"none\" points=\"-4,4 -4,-206 1569.25,-206 1569.25,4 -4,4\"/>\n",
       "<!-- 4415252544 -->\n",
       "<g id=\"node1\" class=\"node\">\n",
       "<title>4415252544</title>\n",
       "<polygon fill=\"none\" stroke=\"black\" points=\"1381.5,-109.5 1381.5,-145.5 1565.25,-145.5 1565.25,-109.5 1381.5,-109.5\"/>\n",
       "<text text-anchor=\"middle\" x=\"1392.88\" y=\"-122.7\" font-family=\"Times,serif\" font-size=\"14.00\">o</text>\n",
       "<polyline fill=\"none\" stroke=\"black\" points=\"1404.25,-110 1404.25,-145.5\"/>\n",
       "<text text-anchor=\"middle\" x=\"1444.12\" y=\"-122.7\" font-family=\"Times,serif\" font-size=\"14.00\">data 0.7071</text>\n",
       "<polyline fill=\"none\" stroke=\"black\" points=\"1484,-110 1484,-145.5\"/>\n",
       "<text text-anchor=\"middle\" x=\"1524.62\" y=\"-122.7\" font-family=\"Times,serif\" font-size=\"14.00\">grad 1.0000</text>\n",
       "</g>\n",
       "<!-- 4415252544tanh -->\n",
       "<g id=\"node2\" class=\"node\">\n",
       "<title>4415252544tanh</title>\n",
       "<ellipse fill=\"none\" stroke=\"black\" cx=\"1318.5\" cy=\"-127.5\" rx=\"27\" ry=\"18\"/>\n",
       "<text text-anchor=\"middle\" x=\"1318.5\" y=\"-122.45\" font-family=\"Times,serif\" font-size=\"14.00\">tanh</text>\n",
       "</g>\n",
       "<!-- 4415252544tanh&#45;&gt;4415252544 -->\n",
       "<g id=\"edge1\" class=\"edge\">\n",
       "<title>4415252544tanh&#45;&gt;4415252544</title>\n",
       "<path fill=\"none\" stroke=\"black\" d=\"M1345.78,-127.5C1352.92,-127.5 1361.11,-127.5 1369.82,-127.5\"/>\n",
       "<polygon fill=\"black\" stroke=\"black\" points=\"1369.56,-131 1379.56,-127.5 1369.56,-124 1369.56,-131\"/>\n",
       "</g>\n",
       "<!-- 4418963024 -->\n",
       "<g id=\"node3\" class=\"node\">\n",
       "<title>4418963024</title>\n",
       "<polygon fill=\"none\" stroke=\"black\" points=\"1071.75,-109.5 1071.75,-145.5 1255.5,-145.5 1255.5,-109.5 1071.75,-109.5\"/>\n",
       "<text text-anchor=\"middle\" x=\"1083.12\" y=\"-122.7\" font-family=\"Times,serif\" font-size=\"14.00\">n</text>\n",
       "<polyline fill=\"none\" stroke=\"black\" points=\"1094.5,-110 1094.5,-145.5\"/>\n",
       "<text text-anchor=\"middle\" x=\"1134.38\" y=\"-122.7\" font-family=\"Times,serif\" font-size=\"14.00\">data 0.8814</text>\n",
       "<polyline fill=\"none\" stroke=\"black\" points=\"1174.25,-110 1174.25,-145.5\"/>\n",
       "<text text-anchor=\"middle\" x=\"1214.88\" y=\"-122.7\" font-family=\"Times,serif\" font-size=\"14.00\">grad 1.5000</text>\n",
       "</g>\n",
       "<!-- 4418963024&#45;&gt;4415252544tanh -->\n",
       "<g id=\"edge7\" class=\"edge\">\n",
       "<title>4418963024&#45;&gt;4415252544tanh</title>\n",
       "<path fill=\"none\" stroke=\"black\" d=\"M1255.76,-127.5C1264.14,-127.5 1272.27,-127.5 1279.73,-127.5\"/>\n",
       "<polygon fill=\"black\" stroke=\"black\" points=\"1279.7,-131 1289.7,-127.5 1279.7,-124 1279.7,-131\"/>\n",
       "</g>\n",
       "<!-- 4418963024+ -->\n",
       "<g id=\"node4\" class=\"node\">\n",
       "<title>4418963024+</title>\n",
       "<ellipse fill=\"none\" stroke=\"black\" cx=\"1008.75\" cy=\"-127.5\" rx=\"27\" ry=\"18\"/>\n",
       "<text text-anchor=\"middle\" x=\"1008.75\" y=\"-122.45\" font-family=\"Times,serif\" font-size=\"14.00\">+</text>\n",
       "</g>\n",
       "<!-- 4418963024+&#45;&gt;4418963024 -->\n",
       "<g id=\"edge2\" class=\"edge\">\n",
       "<title>4418963024+&#45;&gt;4418963024</title>\n",
       "<path fill=\"none\" stroke=\"black\" d=\"M1036.03,-127.5C1043.17,-127.5 1051.36,-127.5 1060.07,-127.5\"/>\n",
       "<polygon fill=\"black\" stroke=\"black\" points=\"1059.81,-131 1069.81,-127.5 1059.81,-124 1059.81,-131\"/>\n",
       "</g>\n",
       "<!-- 4419102928 -->\n",
       "<g id=\"node5\" class=\"node\">\n",
       "<title>4419102928</title>\n",
       "<polygon fill=\"none\" stroke=\"black\" points=\"333,-110.5 333,-146.5 546.75,-146.5 546.75,-110.5 333,-110.5\"/>\n",
       "<text text-anchor=\"middle\" x=\"359.38\" y=\"-123.7\" font-family=\"Times,serif\" font-size=\"14.00\">x2*w2</text>\n",
       "<polyline fill=\"none\" stroke=\"black\" points=\"385.75,-111 385.75,-146.5\"/>\n",
       "<text text-anchor=\"middle\" x=\"425.62\" y=\"-123.7\" font-family=\"Times,serif\" font-size=\"14.00\">data 0.0000</text>\n",
       "<polyline fill=\"none\" stroke=\"black\" points=\"465.5,-111 465.5,-146.5\"/>\n",
       "<text text-anchor=\"middle\" x=\"506.12\" y=\"-123.7\" font-family=\"Times,serif\" font-size=\"14.00\">grad 5.0000</text>\n",
       "</g>\n",
       "<!-- 4419094960+ -->\n",
       "<g id=\"node14\" class=\"node\">\n",
       "<title>4419094960+</title>\n",
       "<ellipse fill=\"none\" stroke=\"black\" cx=\"612\" cy=\"-100.5\" rx=\"27\" ry=\"18\"/>\n",
       "<text text-anchor=\"middle\" x=\"612\" y=\"-95.45\" font-family=\"Times,serif\" font-size=\"14.00\">+</text>\n",
       "</g>\n",
       "<!-- 4419102928&#45;&gt;4419094960+ -->\n",
       "<g id=\"edge6\" class=\"edge\">\n",
       "<title>4419102928&#45;&gt;4419094960+</title>\n",
       "<path fill=\"none\" stroke=\"black\" d=\"M547.17,-111.01C556.64,-109.45 565.75,-107.95 573.96,-106.6\"/>\n",
       "<polygon fill=\"black\" stroke=\"black\" points=\"574.5,-110.05 583.8,-104.98 573.37,-103.15 574.5,-110.05\"/>\n",
       "</g>\n",
       "<!-- 4419102928* -->\n",
       "<g id=\"node6\" class=\"node\">\n",
       "<title>4419102928*</title>\n",
       "<ellipse fill=\"none\" stroke=\"black\" cx=\"267.75\" cy=\"-128.5\" rx=\"27\" ry=\"18\"/>\n",
       "<text text-anchor=\"middle\" x=\"267.75\" y=\"-123.45\" font-family=\"Times,serif\" font-size=\"14.00\">*</text>\n",
       "</g>\n",
       "<!-- 4419102928*&#45;&gt;4419102928 -->\n",
       "<g id=\"edge3\" class=\"edge\">\n",
       "<title>4419102928*&#45;&gt;4419102928</title>\n",
       "<path fill=\"none\" stroke=\"black\" d=\"M294.96,-128.5C302.75,-128.5 311.83,-128.5 321.57,-128.5\"/>\n",
       "<polygon fill=\"black\" stroke=\"black\" points=\"321.3,-132 331.3,-128.5 321.3,-125 321.3,-132\"/>\n",
       "</g>\n",
       "<!-- 4419098848 -->\n",
       "<g id=\"node7\" class=\"node\">\n",
       "<title>4419098848</title>\n",
       "<polygon fill=\"none\" stroke=\"black\" points=\"718.5,-137.5 718.5,-173.5 902.25,-173.5 902.25,-137.5 718.5,-137.5\"/>\n",
       "<text text-anchor=\"middle\" x=\"729.88\" y=\"-150.7\" font-family=\"Times,serif\" font-size=\"14.00\">b</text>\n",
       "<polyline fill=\"none\" stroke=\"black\" points=\"741.25,-138 741.25,-173.5\"/>\n",
       "<text text-anchor=\"middle\" x=\"781.12\" y=\"-150.7\" font-family=\"Times,serif\" font-size=\"14.00\">data 6.8814</text>\n",
       "<polyline fill=\"none\" stroke=\"black\" points=\"821,-138 821,-173.5\"/>\n",
       "<text text-anchor=\"middle\" x=\"861.62\" y=\"-150.7\" font-family=\"Times,serif\" font-size=\"14.00\">grad 3.0000</text>\n",
       "</g>\n",
       "<!-- 4419098848&#45;&gt;4418963024+ -->\n",
       "<g id=\"edge10\" class=\"edge\">\n",
       "<title>4419098848&#45;&gt;4418963024+</title>\n",
       "<path fill=\"none\" stroke=\"black\" d=\"M902.66,-142.48C926.72,-139.05 951.33,-135.55 970.68,-132.79\"/>\n",
       "<polygon fill=\"black\" stroke=\"black\" points=\"971.09,-136.26 980.5,-131.39 970.1,-129.33 971.09,-136.26\"/>\n",
       "</g>\n",
       "<!-- 4419099424 -->\n",
       "<g id=\"node8\" class=\"node\">\n",
       "<title>4419099424</title>\n",
       "<polygon fill=\"none\" stroke=\"black\" points=\"330.75,-55.5 330.75,-91.5 549,-91.5 549,-55.5 330.75,-55.5\"/>\n",
       "<text text-anchor=\"middle\" x=\"357.12\" y=\"-68.7\" font-family=\"Times,serif\" font-size=\"14.00\">x1*w1</text>\n",
       "<polyline fill=\"none\" stroke=\"black\" points=\"383.5,-56 383.5,-91.5\"/>\n",
       "<text text-anchor=\"middle\" x=\"425.62\" y=\"-68.7\" font-family=\"Times,serif\" font-size=\"14.00\">data &#45;6.0000</text>\n",
       "<polyline fill=\"none\" stroke=\"black\" points=\"467.75,-56 467.75,-91.5\"/>\n",
       "<text text-anchor=\"middle\" x=\"508.38\" y=\"-68.7\" font-family=\"Times,serif\" font-size=\"14.00\">grad 5.0000</text>\n",
       "</g>\n",
       "<!-- 4419099424&#45;&gt;4419094960+ -->\n",
       "<g id=\"edge11\" class=\"edge\">\n",
       "<title>4419099424&#45;&gt;4419094960+</title>\n",
       "<path fill=\"none\" stroke=\"black\" d=\"M549.1,-90.68C557.87,-92.07 566.29,-93.4 573.94,-94.62\"/>\n",
       "<polygon fill=\"black\" stroke=\"black\" points=\"573.34,-98.07 583.77,-96.18 574.44,-91.15 573.34,-98.07\"/>\n",
       "</g>\n",
       "<!-- 4419099424* -->\n",
       "<g id=\"node9\" class=\"node\">\n",
       "<title>4419099424*</title>\n",
       "<ellipse fill=\"none\" stroke=\"black\" cx=\"267.75\" cy=\"-73.5\" rx=\"27\" ry=\"18\"/>\n",
       "<text text-anchor=\"middle\" x=\"267.75\" y=\"-68.45\" font-family=\"Times,serif\" font-size=\"14.00\">*</text>\n",
       "</g>\n",
       "<!-- 4419099424*&#45;&gt;4419099424 -->\n",
       "<g id=\"edge4\" class=\"edge\">\n",
       "<title>4419099424*&#45;&gt;4419099424</title>\n",
       "<path fill=\"none\" stroke=\"black\" d=\"M294.96,-73.5C302.04,-73.5 310.18,-73.5 318.92,-73.5\"/>\n",
       "<polygon fill=\"black\" stroke=\"black\" points=\"318.76,-77 328.76,-73.5 318.76,-70 318.76,-77\"/>\n",
       "</g>\n",
       "<!-- 4419098416 -->\n",
       "<g id=\"node10\" class=\"node\">\n",
       "<title>4419098416</title>\n",
       "<polygon fill=\"none\" stroke=\"black\" points=\"5.62,-165.5 5.62,-201.5 199.12,-201.5 199.12,-165.5 5.62,-165.5\"/>\n",
       "<text text-anchor=\"middle\" x=\"21.88\" y=\"-178.7\" font-family=\"Times,serif\" font-size=\"14.00\">w2</text>\n",
       "<polyline fill=\"none\" stroke=\"black\" points=\"38.12,-166 38.12,-201.5\"/>\n",
       "<text text-anchor=\"middle\" x=\"78\" y=\"-178.7\" font-family=\"Times,serif\" font-size=\"14.00\">data 1.0000</text>\n",
       "<polyline fill=\"none\" stroke=\"black\" points=\"117.88,-166 117.88,-201.5\"/>\n",
       "<text text-anchor=\"middle\" x=\"158.5\" y=\"-178.7\" font-family=\"Times,serif\" font-size=\"14.00\">grad 0.0000</text>\n",
       "</g>\n",
       "<!-- 4419098416&#45;&gt;4419102928* -->\n",
       "<g id=\"edge13\" class=\"edge\">\n",
       "<title>4419098416&#45;&gt;4419102928*</title>\n",
       "<path fill=\"none\" stroke=\"black\" d=\"M178.27,-165.04C187.26,-162.39 196.26,-159.53 204.75,-156.5 214.85,-152.9 225.59,-148.33 235.24,-143.93\"/>\n",
       "<polygon fill=\"black\" stroke=\"black\" points=\"236.64,-147.14 244.21,-139.74 233.67,-140.8 236.64,-147.14\"/>\n",
       "</g>\n",
       "<!-- 4419097408 -->\n",
       "<g id=\"node11\" class=\"node\">\n",
       "<title>4419097408</title>\n",
       "<polygon fill=\"none\" stroke=\"black\" points=\"7.12,-110.5 7.12,-146.5 197.62,-146.5 197.62,-110.5 7.12,-110.5\"/>\n",
       "<text text-anchor=\"middle\" x=\"21.88\" y=\"-123.7\" font-family=\"Times,serif\" font-size=\"14.00\">x2</text>\n",
       "<polyline fill=\"none\" stroke=\"black\" points=\"36.62,-111 36.62,-146.5\"/>\n",
       "<text text-anchor=\"middle\" x=\"76.5\" y=\"-123.7\" font-family=\"Times,serif\" font-size=\"14.00\">data 0.0000</text>\n",
       "<polyline fill=\"none\" stroke=\"black\" points=\"116.38,-111 116.38,-146.5\"/>\n",
       "<text text-anchor=\"middle\" x=\"157\" y=\"-123.7\" font-family=\"Times,serif\" font-size=\"14.00\">grad 7.5000</text>\n",
       "</g>\n",
       "<!-- 4419097408&#45;&gt;4419102928* -->\n",
       "<g id=\"edge9\" class=\"edge\">\n",
       "<title>4419097408&#45;&gt;4419102928*</title>\n",
       "<path fill=\"none\" stroke=\"black\" d=\"M197.94,-128.5C208.85,-128.5 219.45,-128.5 228.93,-128.5\"/>\n",
       "<polygon fill=\"black\" stroke=\"black\" points=\"228.77,-132 238.77,-128.5 228.77,-125 228.77,-132\"/>\n",
       "</g>\n",
       "<!-- 4419101056 -->\n",
       "<g id=\"node12\" class=\"node\">\n",
       "<title>4419101056</title>\n",
       "<polygon fill=\"none\" stroke=\"black\" points=\"1.5,-55.5 1.5,-91.5 203.25,-91.5 203.25,-55.5 1.5,-55.5\"/>\n",
       "<text text-anchor=\"middle\" x=\"16.25\" y=\"-68.7\" font-family=\"Times,serif\" font-size=\"14.00\">x1</text>\n",
       "<polyline fill=\"none\" stroke=\"black\" points=\"31,-56 31,-91.5\"/>\n",
       "<text text-anchor=\"middle\" x=\"70.88\" y=\"-68.7\" font-family=\"Times,serif\" font-size=\"14.00\">data 2.0000</text>\n",
       "<polyline fill=\"none\" stroke=\"black\" points=\"110.75,-56 110.75,-91.5\"/>\n",
       "<text text-anchor=\"middle\" x=\"157\" y=\"-68.7\" font-family=\"Times,serif\" font-size=\"14.00\">grad &#45;22.5000</text>\n",
       "</g>\n",
       "<!-- 4419101056&#45;&gt;4419099424* -->\n",
       "<g id=\"edge8\" class=\"edge\">\n",
       "<title>4419101056&#45;&gt;4419099424*</title>\n",
       "<path fill=\"none\" stroke=\"black\" d=\"M203.58,-73.5C212.53,-73.5 221.17,-73.5 229.03,-73.5\"/>\n",
       "<polygon fill=\"black\" stroke=\"black\" points=\"228.79,-77 238.79,-73.5 228.79,-70 228.79,-77\"/>\n",
       "</g>\n",
       "<!-- 4419094960 -->\n",
       "<g id=\"node13\" class=\"node\">\n",
       "<title>4419094960</title>\n",
       "<polygon fill=\"none\" stroke=\"black\" points=\"675,-82.5 675,-118.5 945.75,-118.5 945.75,-82.5 675,-82.5\"/>\n",
       "<text text-anchor=\"middle\" x=\"727.62\" y=\"-95.7\" font-family=\"Times,serif\" font-size=\"14.00\">x1*w1 + x2*w2</text>\n",
       "<polyline fill=\"none\" stroke=\"black\" points=\"780.25,-83 780.25,-118.5\"/>\n",
       "<text text-anchor=\"middle\" x=\"822.38\" y=\"-95.7\" font-family=\"Times,serif\" font-size=\"14.00\">data &#45;6.0000</text>\n",
       "<polyline fill=\"none\" stroke=\"black\" points=\"864.5,-83 864.5,-118.5\"/>\n",
       "<text text-anchor=\"middle\" x=\"905.12\" y=\"-95.7\" font-family=\"Times,serif\" font-size=\"14.00\">grad 3.0000</text>\n",
       "</g>\n",
       "<!-- 4419094960&#45;&gt;4418963024+ -->\n",
       "<g id=\"edge14\" class=\"edge\">\n",
       "<title>4419094960&#45;&gt;4418963024+</title>\n",
       "<path fill=\"none\" stroke=\"black\" d=\"M945.89,-118.99C954.7,-120.21 963.06,-121.36 970.62,-122.4\"/>\n",
       "<polygon fill=\"black\" stroke=\"black\" points=\"969.91,-125.83 980.3,-123.73 970.87,-118.9 969.91,-125.83\"/>\n",
       "</g>\n",
       "<!-- 4419094960+&#45;&gt;4419094960 -->\n",
       "<g id=\"edge5\" class=\"edge\">\n",
       "<title>4419094960+&#45;&gt;4419094960</title>\n",
       "<path fill=\"none\" stroke=\"black\" d=\"M639.48,-100.5C646.48,-100.5 654.54,-100.5 663.27,-100.5\"/>\n",
       "<polygon fill=\"black\" stroke=\"black\" points=\"663.14,-104 673.14,-100.5 663.14,-97 663.14,-104\"/>\n",
       "</g>\n",
       "<!-- 4419104176 -->\n",
       "<g id=\"node15\" class=\"node\">\n",
       "<title>4419104176</title>\n",
       "<polygon fill=\"none\" stroke=\"black\" points=\"0,-0.5 0,-36.5 204.75,-36.5 204.75,-0.5 0,-0.5\"/>\n",
       "<text text-anchor=\"middle\" x=\"16.25\" y=\"-13.7\" font-family=\"Times,serif\" font-size=\"14.00\">w1</text>\n",
       "<polyline fill=\"none\" stroke=\"black\" points=\"32.5,-1 32.5,-36.5\"/>\n",
       "<text text-anchor=\"middle\" x=\"74.62\" y=\"-13.7\" font-family=\"Times,serif\" font-size=\"14.00\">data &#45;3.0000</text>\n",
       "<polyline fill=\"none\" stroke=\"black\" points=\"116.75,-1 116.75,-36.5\"/>\n",
       "<text text-anchor=\"middle\" x=\"160.75\" y=\"-13.7\" font-family=\"Times,serif\" font-size=\"14.00\">grad 15.0000</text>\n",
       "</g>\n",
       "<!-- 4419104176&#45;&gt;4419099424* -->\n",
       "<g id=\"edge12\" class=\"edge\">\n",
       "<title>4419104176&#45;&gt;4419099424*</title>\n",
       "<path fill=\"none\" stroke=\"black\" d=\"M175.21,-36.98C185.2,-39.95 195.28,-43.15 204.75,-46.5 214.72,-50.03 225.35,-54.42 234.95,-58.62\"/>\n",
       "<polygon fill=\"black\" stroke=\"black\" points=\"233.31,-61.72 243.86,-62.62 236.17,-55.34 233.31,-61.72\"/>\n",
       "</g>\n",
       "</g>\n",
       "</svg>\n"
      ],
      "text/plain": [
       "<graphviz.graphs.Digraph at 0x107719070>"
      ]
     },
     "execution_count": 34,
     "metadata": {},
     "output_type": "execute_result"
    }
   ],
   "source": [
    "draw_dot(o)"
   ]
  },
  {
   "cell_type": "code",
   "execution_count": 33,
   "metadata": {},
   "outputs": [],
   "source": [
    "o.backward()"
   ]
  },
  {
   "cell_type": "code",
   "execution_count": null,
   "metadata": {},
   "outputs": [
    {
     "data": {
      "text/plain": [
       "[Value(data=2.0),\n",
       " Value(data=-3.0),\n",
       " Value(data=-6.0),\n",
       " Value(data=1.0),\n",
       " Value(data=0.0),\n",
       " Value(data=0.0),\n",
       " Value(data=-6.0),\n",
       " Value(data=6.881373587019543),\n",
       " Value(data=0.8813735870195432),\n",
       " Value(data=0.7071067811865476)]"
      ]
     },
     "execution_count": 22,
     "metadata": {},
     "output_type": "execute_result"
    }
   ],
   "source": [
    "topo = [] # topological order\n",
    "visited = set()\n",
    "def build_topo(v):\n",
    "  if v not in visited:\n",
    "    visited.add(v)\n",
    "    for child in v._prev:\n",
    "      build_topo(child)\n",
    "    topo.append(v)\n",
    "build_topo(o)\n",
    "topo"
   ]
  },
  {
   "cell_type": "code",
   "execution_count": 23,
   "metadata": {},
   "outputs": [],
   "source": [
    "o.grad = 1.0"
   ]
  },
  {
   "cell_type": "code",
   "execution_count": 24,
   "metadata": {},
   "outputs": [],
   "source": [
    "o._backward()"
   ]
  },
  {
   "cell_type": "code",
   "execution_count": 26,
   "metadata": {},
   "outputs": [],
   "source": [
    "n._backward()"
   ]
  },
  {
   "cell_type": "code",
   "execution_count": 27,
   "metadata": {},
   "outputs": [],
   "source": [
    "b._backward()"
   ]
  },
  {
   "cell_type": "code",
   "execution_count": 28,
   "metadata": {},
   "outputs": [],
   "source": [
    "x1w1x2w2._backward()"
   ]
  },
  {
   "cell_type": "code",
   "execution_count": 29,
   "metadata": {},
   "outputs": [],
   "source": [
    "x2w2._backward()\n",
    "x1w1._backward()"
   ]
  },
  {
   "cell_type": "code",
   "execution_count": 200,
   "metadata": {},
   "outputs": [],
   "source": [
    "x1.grad = w1.data * x1w1.grad\n",
    "w1.grad = x1.data * x1w1.grad"
   ]
  },
  {
   "cell_type": "code",
   "execution_count": 198,
   "metadata": {},
   "outputs": [],
   "source": [
    "x2.grad = w2.data * x2w2.grad\n",
    "w2.grad = x2.data * x2w2.grad"
   ]
  },
  {
   "cell_type": "code",
   "execution_count": 196,
   "metadata": {},
   "outputs": [],
   "source": [
    "x1w1.grad = 0.5\n",
    "x2w2.grad = 0.5"
   ]
  },
  {
   "cell_type": "code",
   "execution_count": 194,
   "metadata": {},
   "outputs": [],
   "source": [
    "x1w1x2w2.grad = 0.5\n",
    "b.grad = 0.5"
   ]
  },
  {
   "cell_type": "code",
   "execution_count": 192,
   "metadata": {},
   "outputs": [],
   "source": [
    "n.grad = 0.5"
   ]
  },
  {
   "cell_type": "code",
   "execution_count": 187,
   "metadata": {},
   "outputs": [],
   "source": [
    "o.grad = 1.0"
   ]
  },
  {
   "cell_type": "code",
   "execution_count": 191,
   "metadata": {},
   "outputs": [
    {
     "data": {
      "text/plain": [
       "0.4999999999999999"
      ]
     },
     "execution_count": 191,
     "metadata": {},
     "output_type": "execute_result"
    }
   ],
   "source": [
    "1 - o.data**2"
   ]
  },
  {
   "cell_type": "code",
   "execution_count": null,
   "metadata": {},
   "outputs": [],
   "source": [
    "# o = tanh(n)\n",
    "# do/dn = 1 - o**2"
   ]
  },
  {
   "cell_type": "code",
   "execution_count": null,
   "metadata": {},
   "outputs": [
    {
     "data": {
      "image/svg+xml": [
       "<?xml version=\"1.0\" encoding=\"UTF-8\" standalone=\"no\"?>\n",
       "<!DOCTYPE svg PUBLIC \"-//W3C//DTD SVG 1.1//EN\"\n",
       " \"http://www.w3.org/Graphics/SVG/1.1/DTD/svg11.dtd\">\n",
       "<!-- Generated by graphviz version 12.2.1 (0)\n",
       " -->\n",
       "<!-- Pages: 1 -->\n",
       "<svg width=\"501pt\" height=\"45pt\"\n",
       " viewBox=\"0.00 0.00 500.75 45.00\" xmlns=\"http://www.w3.org/2000/svg\" xmlns:xlink=\"http://www.w3.org/1999/xlink\">\n",
       "<g id=\"graph0\" class=\"graph\" transform=\"scale(1 1) rotate(0) translate(4 41)\">\n",
       "<polygon fill=\"white\" stroke=\"none\" points=\"-4,4 -4,-41 496.75,-41 496.75,4 -4,4\"/>\n",
       "<!-- 4419847952 -->\n",
       "<g id=\"node1\" class=\"node\">\n",
       "<title>4419847952</title>\n",
       "<polygon fill=\"none\" stroke=\"black\" points=\"309,-0.5 309,-36.5 492.75,-36.5 492.75,-0.5 309,-0.5\"/>\n",
       "<text text-anchor=\"middle\" x=\"320.38\" y=\"-13.7\" font-family=\"Times,serif\" font-size=\"14.00\">b</text>\n",
       "<polyline fill=\"none\" stroke=\"black\" points=\"331.75,-1 331.75,-36.5\"/>\n",
       "<text text-anchor=\"middle\" x=\"371.62\" y=\"-13.7\" font-family=\"Times,serif\" font-size=\"14.00\">data 6.0000</text>\n",
       "<polyline fill=\"none\" stroke=\"black\" points=\"411.5,-1 411.5,-36.5\"/>\n",
       "<text text-anchor=\"middle\" x=\"452.12\" y=\"-13.7\" font-family=\"Times,serif\" font-size=\"14.00\">grad 1.0000</text>\n",
       "</g>\n",
       "<!-- 4419847952+ -->\n",
       "<g id=\"node2\" class=\"node\">\n",
       "<title>4419847952+</title>\n",
       "<ellipse fill=\"none\" stroke=\"black\" cx=\"246\" cy=\"-18.5\" rx=\"27\" ry=\"18\"/>\n",
       "<text text-anchor=\"middle\" x=\"246\" y=\"-13.45\" font-family=\"Times,serif\" font-size=\"14.00\">+</text>\n",
       "</g>\n",
       "<!-- 4419847952+&#45;&gt;4419847952 -->\n",
       "<g id=\"edge1\" class=\"edge\">\n",
       "<title>4419847952+&#45;&gt;4419847952</title>\n",
       "<path fill=\"none\" stroke=\"black\" d=\"M273.28,-18.5C280.42,-18.5 288.61,-18.5 297.32,-18.5\"/>\n",
       "<polygon fill=\"black\" stroke=\"black\" points=\"297.06,-22 307.06,-18.5 297.06,-15 297.06,-22\"/>\n",
       "</g>\n",
       "<!-- 4415834208 -->\n",
       "<g id=\"node3\" class=\"node\">\n",
       "<title>4415834208</title>\n",
       "<polygon fill=\"none\" stroke=\"black\" points=\"0,-0.5 0,-36.5 183,-36.5 183,-0.5 0,-0.5\"/>\n",
       "<text text-anchor=\"middle\" x=\"11\" y=\"-13.7\" font-family=\"Times,serif\" font-size=\"14.00\">a</text>\n",
       "<polyline fill=\"none\" stroke=\"black\" points=\"22,-1 22,-36.5\"/>\n",
       "<text text-anchor=\"middle\" x=\"61.88\" y=\"-13.7\" font-family=\"Times,serif\" font-size=\"14.00\">data 3.0000</text>\n",
       "<polyline fill=\"none\" stroke=\"black\" points=\"101.75,-1 101.75,-36.5\"/>\n",
       "<text text-anchor=\"middle\" x=\"142.38\" y=\"-13.7\" font-family=\"Times,serif\" font-size=\"14.00\">grad 2.0000</text>\n",
       "</g>\n",
       "<!-- 4415834208&#45;&gt;4419847952+ -->\n",
       "<g id=\"edge2\" class=\"edge\">\n",
       "<title>4415834208&#45;&gt;4419847952+</title>\n",
       "<path fill=\"none\" stroke=\"black\" d=\"M183.41,-18.5C191.77,-18.5 199.88,-18.5 207.32,-18.5\"/>\n",
       "<polygon fill=\"black\" stroke=\"black\" points=\"207.26,-22 217.26,-18.5 207.26,-15 207.26,-22\"/>\n",
       "</g>\n",
       "</g>\n",
       "</svg>\n"
      ],
      "text/plain": [
       "<graphviz.graphs.Digraph at 0x10771a750>"
      ]
     },
     "execution_count": 35,
     "metadata": {},
     "output_type": "execute_result"
    }
   ],
   "source": [
    "a = Value(3.0, label='a')\n",
    "b = a + a   ; b.label = 'b' # a as self and other, overwrites the gradient\n",
    "b.backward()\n",
    "draw_dot(b)"
   ]
  },
  {
   "cell_type": "code",
   "execution_count": 259,
   "metadata": {},
   "outputs": [
    {
     "data": {
      "image/svg+xml": [
       "<?xml version=\"1.0\" encoding=\"UTF-8\" standalone=\"no\"?>\n",
       "<!DOCTYPE svg PUBLIC \"-//W3C//DTD SVG 1.1//EN\"\n",
       " \"http://www.w3.org/Graphics/SVG/1.1/DTD/svg11.dtd\">\n",
       "<!-- Generated by graphviz version 3.0.0 (20220226.1711)\n",
       " -->\n",
       "<!-- Pages: 1 -->\n",
       "<svg width=\"832pt\" height=\"100pt\"\n",
       " viewBox=\"0.00 0.00 832.00 100.00\" xmlns=\"http://www.w3.org/2000/svg\" xmlns:xlink=\"http://www.w3.org/1999/xlink\">\n",
       "<g id=\"graph0\" class=\"graph\" transform=\"scale(1 1) rotate(0) translate(4 96)\">\n",
       "<polygon fill=\"white\" stroke=\"transparent\" points=\"-4,4 -4,-96 828,-96 828,4 -4,4\"/>\n",
       "<!-- 140306525506048 -->\n",
       "<g id=\"node1\" class=\"node\">\n",
       "<title>140306525506048</title>\n",
       "<polygon fill=\"none\" stroke=\"black\" points=\"0,-55.5 0,-91.5 194,-91.5 194,-55.5 0,-55.5\"/>\n",
       "<text text-anchor=\"middle\" x=\"11.5\" y=\"-69.8\" font-family=\"Times,serif\" font-size=\"14.00\">a</text>\n",
       "<polyline fill=\"none\" stroke=\"black\" points=\"23,-55.5 23,-91.5 \"/>\n",
       "<text text-anchor=\"middle\" x=\"65.5\" y=\"-69.8\" font-family=\"Times,serif\" font-size=\"14.00\">data &#45;2.0000</text>\n",
       "<polyline fill=\"none\" stroke=\"black\" points=\"108,-55.5 108,-91.5 \"/>\n",
       "<text text-anchor=\"middle\" x=\"151\" y=\"-69.8\" font-family=\"Times,serif\" font-size=\"14.00\">grad &#45;3.0000</text>\n",
       "</g>\n",
       "<!-- 140307056785968+ -->\n",
       "<g id=\"node3\" class=\"node\">\n",
       "<title>140307056785968+</title>\n",
       "<ellipse fill=\"none\" stroke=\"black\" cx=\"257\" cy=\"-73.5\" rx=\"27\" ry=\"18\"/>\n",
       "<text text-anchor=\"middle\" x=\"257\" y=\"-69.8\" font-family=\"Times,serif\" font-size=\"14.00\">+</text>\n",
       "</g>\n",
       "<!-- 140306525506048&#45;&gt;140307056785968+ -->\n",
       "<g id=\"edge7\" class=\"edge\">\n",
       "<title>140306525506048&#45;&gt;140307056785968+</title>\n",
       "<path fill=\"none\" stroke=\"black\" d=\"M194.01,-73.5C202.98,-73.5 211.65,-73.5 219.51,-73.5\"/>\n",
       "<polygon fill=\"black\" stroke=\"black\" points=\"219.7,-77 229.7,-73.5 219.7,-70 219.7,-77\"/>\n",
       "</g>\n",
       "<!-- 140306525506912* -->\n",
       "<g id=\"node5\" class=\"node\">\n",
       "<title>140306525506912*</title>\n",
       "<ellipse fill=\"none\" stroke=\"black\" cx=\"257\" cy=\"-18.5\" rx=\"27\" ry=\"18\"/>\n",
       "<text text-anchor=\"middle\" x=\"257\" y=\"-14.8\" font-family=\"Times,serif\" font-size=\"14.00\">*</text>\n",
       "</g>\n",
       "<!-- 140306525506048&#45;&gt;140306525506912* -->\n",
       "<g id=\"edge5\" class=\"edge\">\n",
       "<title>140306525506048&#45;&gt;140306525506912*</title>\n",
       "<path fill=\"none\" stroke=\"black\" d=\"M166.84,-55.49C176.04,-52.69 185.3,-49.67 194,-46.5 204.51,-42.67 215.73,-37.84 225.7,-33.28\"/>\n",
       "<polygon fill=\"black\" stroke=\"black\" points=\"227.23,-36.43 234.81,-29.02 224.27,-30.09 227.23,-36.43\"/>\n",
       "</g>\n",
       "<!-- 140307056785968 -->\n",
       "<g id=\"node2\" class=\"node\">\n",
       "<title>140307056785968</title>\n",
       "<polygon fill=\"none\" stroke=\"black\" points=\"320.5,-55.5 320.5,-91.5 509.5,-91.5 509.5,-55.5 320.5,-55.5\"/>\n",
       "<text text-anchor=\"middle\" x=\"332\" y=\"-69.8\" font-family=\"Times,serif\" font-size=\"14.00\">e</text>\n",
       "<polyline fill=\"none\" stroke=\"black\" points=\"343.5,-55.5 343.5,-91.5 \"/>\n",
       "<text text-anchor=\"middle\" x=\"383.5\" y=\"-69.8\" font-family=\"Times,serif\" font-size=\"14.00\">data 1.0000</text>\n",
       "<polyline fill=\"none\" stroke=\"black\" points=\"423.5,-55.5 423.5,-91.5 \"/>\n",
       "<text text-anchor=\"middle\" x=\"466.5\" y=\"-69.8\" font-family=\"Times,serif\" font-size=\"14.00\">grad &#45;6.0000</text>\n",
       "</g>\n",
       "<!-- 140307056783712* -->\n",
       "<g id=\"node7\" class=\"node\">\n",
       "<title>140307056783712*</title>\n",
       "<ellipse fill=\"none\" stroke=\"black\" cx=\"573\" cy=\"-45.5\" rx=\"27\" ry=\"18\"/>\n",
       "<text text-anchor=\"middle\" x=\"573\" y=\"-41.8\" font-family=\"Times,serif\" font-size=\"14.00\">*</text>\n",
       "</g>\n",
       "<!-- 140307056785968&#45;&gt;140307056783712* -->\n",
       "<g id=\"edge8\" class=\"edge\">\n",
       "<title>140307056785968&#45;&gt;140307056783712*</title>\n",
       "<path fill=\"none\" stroke=\"black\" d=\"M509.9,-56.65C519.42,-54.94 528.62,-53.29 536.89,-51.8\"/>\n",
       "<polygon fill=\"black\" stroke=\"black\" points=\"537.59,-55.23 546.81,-50.02 536.35,-48.34 537.59,-55.23\"/>\n",
       "</g>\n",
       "<!-- 140307056785968+&#45;&gt;140307056785968 -->\n",
       "<g id=\"edge1\" class=\"edge\">\n",
       "<title>140307056785968+&#45;&gt;140307056785968</title>\n",
       "<path fill=\"none\" stroke=\"black\" d=\"M284.11,-73.5C291.84,-73.5 300.8,-73.5 310.35,-73.5\"/>\n",
       "<polygon fill=\"black\" stroke=\"black\" points=\"310.48,-77 320.48,-73.5 310.48,-70 310.48,-77\"/>\n",
       "</g>\n",
       "<!-- 140306525506912 -->\n",
       "<g id=\"node4\" class=\"node\">\n",
       "<title>140306525506912</title>\n",
       "<polygon fill=\"none\" stroke=\"black\" points=\"320,-0.5 320,-36.5 510,-36.5 510,-0.5 320,-0.5\"/>\n",
       "<text text-anchor=\"middle\" x=\"331.5\" y=\"-14.8\" font-family=\"Times,serif\" font-size=\"14.00\">d</text>\n",
       "<polyline fill=\"none\" stroke=\"black\" points=\"343,-0.5 343,-36.5 \"/>\n",
       "<text text-anchor=\"middle\" x=\"385.5\" y=\"-14.8\" font-family=\"Times,serif\" font-size=\"14.00\">data &#45;6.0000</text>\n",
       "<polyline fill=\"none\" stroke=\"black\" points=\"428,-0.5 428,-36.5 \"/>\n",
       "<text text-anchor=\"middle\" x=\"469\" y=\"-14.8\" font-family=\"Times,serif\" font-size=\"14.00\">grad 1.0000</text>\n",
       "</g>\n",
       "<!-- 140306525506912&#45;&gt;140307056783712* -->\n",
       "<g id=\"edge9\" class=\"edge\">\n",
       "<title>140306525506912&#45;&gt;140307056783712*</title>\n",
       "<path fill=\"none\" stroke=\"black\" d=\"M510.34,-34.83C519.62,-36.44 528.58,-37.99 536.66,-39.38\"/>\n",
       "<polygon fill=\"black\" stroke=\"black\" points=\"536.27,-42.87 546.72,-41.12 537.46,-35.97 536.27,-42.87\"/>\n",
       "</g>\n",
       "<!-- 140306525506912*&#45;&gt;140306525506912 -->\n",
       "<g id=\"edge2\" class=\"edge\">\n",
       "<title>140306525506912*&#45;&gt;140306525506912</title>\n",
       "<path fill=\"none\" stroke=\"black\" d=\"M284.11,-18.5C291.63,-18.5 300.32,-18.5 309.58,-18.5\"/>\n",
       "<polygon fill=\"black\" stroke=\"black\" points=\"309.81,-22 319.81,-18.5 309.81,-15 309.81,-22\"/>\n",
       "</g>\n",
       "<!-- 140307056783712 -->\n",
       "<g id=\"node6\" class=\"node\">\n",
       "<title>140307056783712</title>\n",
       "<polygon fill=\"none\" stroke=\"black\" points=\"636,-27.5 636,-63.5 824,-63.5 824,-27.5 636,-27.5\"/>\n",
       "<text text-anchor=\"middle\" x=\"646.5\" y=\"-41.8\" font-family=\"Times,serif\" font-size=\"14.00\">f</text>\n",
       "<polyline fill=\"none\" stroke=\"black\" points=\"657,-27.5 657,-63.5 \"/>\n",
       "<text text-anchor=\"middle\" x=\"699.5\" y=\"-41.8\" font-family=\"Times,serif\" font-size=\"14.00\">data &#45;6.0000</text>\n",
       "<polyline fill=\"none\" stroke=\"black\" points=\"742,-27.5 742,-63.5 \"/>\n",
       "<text text-anchor=\"middle\" x=\"783\" y=\"-41.8\" font-family=\"Times,serif\" font-size=\"14.00\">grad 1.0000</text>\n",
       "</g>\n",
       "<!-- 140307056783712*&#45;&gt;140307056783712 -->\n",
       "<g id=\"edge3\" class=\"edge\">\n",
       "<title>140307056783712*&#45;&gt;140307056783712</title>\n",
       "<path fill=\"none\" stroke=\"black\" d=\"M600.29,-45.5C607.78,-45.5 616.42,-45.5 625.6,-45.5\"/>\n",
       "<polygon fill=\"black\" stroke=\"black\" points=\"625.76,-49 635.76,-45.5 625.76,-42 625.76,-49\"/>\n",
       "</g>\n",
       "<!-- 140306525506432 -->\n",
       "<g id=\"node8\" class=\"node\">\n",
       "<title>140306525506432</title>\n",
       "<polygon fill=\"none\" stroke=\"black\" points=\"2.5,-0.5 2.5,-36.5 191.5,-36.5 191.5,-0.5 2.5,-0.5\"/>\n",
       "<text text-anchor=\"middle\" x=\"14\" y=\"-14.8\" font-family=\"Times,serif\" font-size=\"14.00\">b</text>\n",
       "<polyline fill=\"none\" stroke=\"black\" points=\"25.5,-0.5 25.5,-36.5 \"/>\n",
       "<text text-anchor=\"middle\" x=\"65.5\" y=\"-14.8\" font-family=\"Times,serif\" font-size=\"14.00\">data 3.0000</text>\n",
       "<polyline fill=\"none\" stroke=\"black\" points=\"105.5,-0.5 105.5,-36.5 \"/>\n",
       "<text text-anchor=\"middle\" x=\"148.5\" y=\"-14.8\" font-family=\"Times,serif\" font-size=\"14.00\">grad &#45;8.0000</text>\n",
       "</g>\n",
       "<!-- 140306525506432&#45;&gt;140307056785968+ -->\n",
       "<g id=\"edge6\" class=\"edge\">\n",
       "<title>140306525506432&#45;&gt;140307056785968+</title>\n",
       "<path fill=\"none\" stroke=\"black\" d=\"M163.94,-36.53C174.08,-39.65 184.37,-43.01 194,-46.5 204.27,-50.22 215.26,-54.8 225.09,-59.12\"/>\n",
       "<polygon fill=\"black\" stroke=\"black\" points=\"223.91,-62.43 234.47,-63.32 226.77,-56.04 223.91,-62.43\"/>\n",
       "</g>\n",
       "<!-- 140306525506432&#45;&gt;140306525506912* -->\n",
       "<g id=\"edge4\" class=\"edge\">\n",
       "<title>140306525506432&#45;&gt;140306525506912*</title>\n",
       "<path fill=\"none\" stroke=\"black\" d=\"M191.74,-18.5C201.55,-18.5 211.04,-18.5 219.59,-18.5\"/>\n",
       "<polygon fill=\"black\" stroke=\"black\" points=\"219.87,-22 229.87,-18.5 219.87,-15 219.87,-22\"/>\n",
       "</g>\n",
       "</g>\n",
       "</svg>\n"
      ],
      "text/plain": [
       "<graphviz.graphs.Digraph at 0x7f9ba89cc880>"
      ]
     },
     "execution_count": 259,
     "metadata": {},
     "output_type": "execute_result"
    }
   ],
   "source": [
    "a = Value(-2.0, label='a')\n",
    "b = Value(3.0, label='b')\n",
    "d = a * b    ; d.label = 'd'\n",
    "e = a + b    ; e.label = 'e'\n",
    "f = d * e    ; f.label = 'f'\n",
    "\n",
    "f.backward()\n",
    "\n",
    "draw_dot(f)"
   ]
  },
  {
   "cell_type": "code",
   "execution_count": null,
   "metadata": {},
   "outputs": [],
   "source": []
  }
 ],
 "metadata": {
  "kernelspec": {
   "display_name": "base",
   "language": "python",
   "name": "python3"
  },
  "language_info": {
   "codemirror_mode": {
    "name": "ipython",
    "version": 3
   },
   "file_extension": ".py",
   "mimetype": "text/x-python",
   "name": "python",
   "nbconvert_exporter": "python",
   "pygments_lexer": "ipython3",
   "version": "3.12.9"
  }
 },
 "nbformat": 4,
 "nbformat_minor": 4
}
